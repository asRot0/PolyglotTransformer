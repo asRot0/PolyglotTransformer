{
  "cells": [
    {
      "cell_type": "markdown",
      "source": [
        "# English-to-Bengali Transformer Translation"
      ],
      "metadata": {
        "id": "uTrxcTjtN5Uv"
      },
      "id": "uTrxcTjtN5Uv"
    },
    {
      "cell_type": "code",
      "source": [
        "import tensorflow as tf\n",
        "from tensorflow.keras import layers\n",
        "from models.transformer import Transformer\n",
        "import numpy as np\n",
        "import string\n",
        "import re\n",
        "import pandas as pd\n",
        "import random"
      ],
      "metadata": {
        "id": "QTLXLiQeN1C-"
      },
      "id": "QTLXLiQeN1C-",
      "execution_count": null,
      "outputs": []
    },
    {
      "cell_type": "markdown",
      "source": [
        "`Dataset Preprocessing & Vectorization`"
      ],
      "metadata": {
        "id": "FUJIDDANOGn7"
      },
      "id": "FUJIDDANOGn7"
    },
    {
      "cell_type": "code",
      "source": [
        "strip_chars = string.punctuation\n",
        "strip_chars = strip_chars.replace(\"[\", \"\")\n",
        "strip_chars = strip_chars.replace(\"]\", \"\")\n",
        "def custom_standardization(input_string):\n",
        "    lowercase = tf.strings.lower(input_string)\n",
        "    return tf.strings.regex_replace(\n",
        "        lowercase, f\"[{re.escape(strip_chars)}]\", \"\")"
      ],
      "metadata": {
        "id": "JTNHv-OacuMq"
      },
      "id": "JTNHv-OacuMq",
      "execution_count": null,
      "outputs": []
    },
    {
      "cell_type": "code",
      "source": [
        "vocab_size = 9000\n",
        "sequence_length = 20\n",
        "batch_size = 64\n",
        "\n",
        "source_vectorization = layers.TextVectorization(\n",
        "    max_tokens=vocab_size,\n",
        "    output_mode=\"int\",\n",
        "    output_sequence_length=sequence_length)\n",
        "\n",
        "target_vectorization = layers.TextVectorization(\n",
        "    max_tokens=vocab_size,\n",
        "    output_mode=\"int\",\n",
        "    output_sequence_length=sequence_length + 1,\n",
        "    standardize=custom_standardization)"
      ],
      "metadata": {
        "id": "Yvh4RN2rOAki"
      },
      "id": "Yvh4RN2rOAki",
      "execution_count": null,
      "outputs": []
    },
    {
      "cell_type": "markdown",
      "source": [
        "`Data loading function`"
      ],
      "metadata": {
        "id": "rMZHHE-8OSTT"
      },
      "id": "rMZHHE-8OSTT"
    },
    {
      "cell_type": "code",
      "source": [
        "def load_data():\n",
        "    with open(\"/content/ben.txt\", encoding='utf-8') as f:\n",
        "        lines = f.readlines()\n",
        "\n",
        "    text_pairs = []\n",
        "    for line in lines:\n",
        "        parts = line.strip().split('\\t')\n",
        "        if len(parts) >= 2:\n",
        "            en, bn = parts[0], parts[1]\n",
        "            text_pairs.append((en, '[start] '+ bn + ' [end]'))\n",
        "\n",
        "    df = pd.DataFrame(text_pairs, columns=[\"en\", \"bn\"]).drop_duplicates()\n",
        "    print(df[4000:6000:400])\n",
        "    return text_pairs"
      ],
      "metadata": {
        "id": "NXK3I6UHOIon"
      },
      "id": "NXK3I6UHOIon",
      "execution_count": null,
      "outputs": []
    },
    {
      "cell_type": "code",
      "source": [
        "text_pairs = load_data()\n",
        "\n",
        "random.shuffle(text_pairs)\n",
        "num_val_samples = int(0.15 * len(text_pairs))\n",
        "num_train_samples = len(text_pairs) - 2 * num_val_samples\n",
        "train_pairs = text_pairs[:num_train_samples]\n",
        "val_pairs = text_pairs[num_train_samples:num_train_samples + num_val_samples]\n",
        "test_pairs = text_pairs[num_train_samples + num_val_samples:]\n",
        "\n",
        "\n",
        "train_eng = [pair[0] for pair in train_pairs]\n",
        "train_ben = [pair[1] for pair in train_pairs]\n",
        "\n",
        "source_vectorization.adapt(train_eng)\n",
        "target_vectorization.adapt(train_ben)"
      ],
      "metadata": {
        "colab": {
          "base_uri": "https://localhost:8080/"
        },
        "id": "j-QFohR3ORyH",
        "outputId": "f6ea70cb-db13-49dd-820f-bf954b90513b"
      },
      "id": "j-QFohR3ORyH",
      "execution_count": null,
      "outputs": [
        {
          "output_type": "stream",
          "name": "stdout",
          "text": [
            "                                        en  \\\n",
            "4000            Would you like to come in?   \n",
            "4400          Tom has never been so happy.   \n",
            "4800        What time do you start school?   \n",
            "5200     I've told you so a hundred times.   \n",
            "5600  Tell me the reason why he was fired.   \n",
            "\n",
            "                                                     bn  \n",
            "4000                  [start] তুমি কি ভেতরে আসবে? [end]  \n",
            "4400              [start] টম এত খুশি কখনো হয় নি। [end]  \n",
            "4800    [start] কয়টার সময় তোমার স্কুল শুরু হয়? [end]  \n",
            "5200         [start] আমি তোমাকে এটা একশবার বলেছি। [end]  \n",
            "5600  [start] কেন তাকে চাকরিচ্যুত করা হয়েছে তার কার...  \n"
          ]
        }
      ]
    },
    {
      "cell_type": "code",
      "source": [
        "def format_dataset(eng, ben):\n",
        "    eng = source_vectorization(eng)\n",
        "    ben = target_vectorization(ben)\n",
        "    return ({\n",
        "        \"english\": eng,\n",
        "        \"bengla\": ben[:, :-1],\n",
        "    }, ben[:, 1:])\n",
        "\n",
        "def make_dataset(pairs):\n",
        "    eng_texts, ben_texts = zip(*pairs)\n",
        "    dataset = tf.data.Dataset.from_tensor_slices((list(eng_texts), list(ben_texts)))\n",
        "    dataset = dataset.batch(batch_size)\n",
        "    dataset = dataset.map(format_dataset)\n",
        "    return dataset.shuffle(2048).prefetch(16).cache()\n",
        "\n",
        "\n",
        "train_ds = make_dataset(train_pairs)\n",
        "val_ds = make_dataset(val_pairs)"
      ],
      "metadata": {
        "id": "NwCTvSRwOZ15"
      },
      "id": "NwCTvSRwOZ15",
      "execution_count": null,
      "outputs": []
    },
    {
      "cell_type": "markdown",
      "source": [
        "`Compile and Train`"
      ],
      "metadata": {
        "id": "kZQ6wf-8PbRd"
      },
      "id": "kZQ6wf-8PbRd"
    },
    {
      "cell_type": "code",
      "source": [
        "loss_fn = tf.keras.losses.SparseCategoricalCrossentropy(\n",
        "    from_logits=True, reduction='none')\n",
        "\n",
        "def masked_loss(y_true, y_pred):\n",
        "    loss = loss_fn(y_true, y_pred)\n",
        "    mask = tf.cast(tf.not_equal(y_true, 0), tf.float32)\n",
        "    return tf.reduce_sum(loss * mask) / tf.reduce_sum(mask)"
      ],
      "metadata": {
        "id": "RgNyNdc9WUoe"
      },
      "id": "RgNyNdc9WUoe",
      "execution_count": null,
      "outputs": []
    },
    {
      "cell_type": "code",
      "source": [
        "embed_dim = 256\n",
        "num_heads = 8\n",
        "num_layers = 1\n",
        "\n",
        "model = Transformer(\n",
        "    num_layers=num_layers,\n",
        "    embed_size=embed_dim,\n",
        "    num_heads=num_heads,\n",
        "    ff_expansion=8,\n",
        "    input_vocab_size=vocab_size,\n",
        "    target_vocab_size=vocab_size,\n",
        "    max_seq_length=sequence_length,\n",
        "    source_language='english',\n",
        "    target_language='bengla')\n",
        "\n",
        "model.compile(optimizer=\"rmsprop\", loss=\"sparse_categorical_crossentropy\", metrics=[\"accuracy\"])\n",
        "\n",
        "model.fit(train_ds, validation_data=val_ds, epochs=30)"
      ],
      "metadata": {
        "colab": {
          "base_uri": "https://localhost:8080/"
        },
        "id": "tMQ3e1QdPQlG",
        "outputId": "2999f1b6-b4b8-41fc-a0e0-d13b64f9727f"
      },
      "id": "tMQ3e1QdPQlG",
      "execution_count": null,
      "outputs": [
        {
          "output_type": "stream",
          "name": "stdout",
          "text": [
            "Epoch 1/30\n",
            "\u001b[1m72/72\u001b[0m \u001b[32m━━━━━━━━━━━━━━━━━━━━\u001b[0m\u001b[37m\u001b[0m \u001b[1m42s\u001b[0m 280ms/step - accuracy: 0.6959 - loss: 3.7077 - val_accuracy: 0.7776 - val_loss: 1.7337\n",
            "Epoch 2/30\n",
            "\u001b[1m72/72\u001b[0m \u001b[32m━━━━━━━━━━━━━━━━━━━━\u001b[0m\u001b[37m\u001b[0m \u001b[1m4s\u001b[0m 54ms/step - accuracy: 0.7835 - loss: 1.6110 - val_accuracy: 0.7880 - val_loss: 1.5180\n",
            "Epoch 3/30\n",
            "\u001b[1m72/72\u001b[0m \u001b[32m━━━━━━━━━━━━━━━━━━━━\u001b[0m\u001b[37m\u001b[0m \u001b[1m5s\u001b[0m 57ms/step - accuracy: 0.7908 - loss: 1.4509 - val_accuracy: 0.7937 - val_loss: 1.4335\n",
            "Epoch 4/30\n",
            "\u001b[1m72/72\u001b[0m \u001b[32m━━━━━━━━━━━━━━━━━━━━\u001b[0m\u001b[37m\u001b[0m \u001b[1m4s\u001b[0m 55ms/step - accuracy: 0.7996 - loss: 1.3149 - val_accuracy: 0.7956 - val_loss: 1.3970\n",
            "Epoch 5/30\n",
            "\u001b[1m72/72\u001b[0m \u001b[32m━━━━━━━━━━━━━━━━━━━━\u001b[0m\u001b[37m\u001b[0m \u001b[1m4s\u001b[0m 55ms/step - accuracy: 0.8059 - loss: 1.2032 - val_accuracy: 0.8000 - val_loss: 1.3473\n",
            "Epoch 6/30\n",
            "\u001b[1m72/72\u001b[0m \u001b[32m━━━━━━━━━━━━━━━━━━━━\u001b[0m\u001b[37m\u001b[0m \u001b[1m4s\u001b[0m 54ms/step - accuracy: 0.8167 - loss: 1.0950 - val_accuracy: 0.8102 - val_loss: 1.2959\n",
            "Epoch 7/30\n",
            "\u001b[1m72/72\u001b[0m \u001b[32m━━━━━━━━━━━━━━━━━━━━\u001b[0m\u001b[37m\u001b[0m \u001b[1m5s\u001b[0m 52ms/step - accuracy: 0.8324 - loss: 0.9637 - val_accuracy: 0.8197 - val_loss: 1.2355\n",
            "Epoch 8/30\n",
            "\u001b[1m72/72\u001b[0m \u001b[32m━━━━━━━━━━━━━━━━━━━━\u001b[0m\u001b[37m\u001b[0m \u001b[1m5s\u001b[0m 54ms/step - accuracy: 0.8449 - loss: 0.8533 - val_accuracy: 0.8225 - val_loss: 1.2130\n",
            "Epoch 9/30\n",
            "\u001b[1m72/72\u001b[0m \u001b[32m━━━━━━━━━━━━━━━━━━━━\u001b[0m\u001b[37m\u001b[0m \u001b[1m4s\u001b[0m 52ms/step - accuracy: 0.8568 - loss: 0.7539 - val_accuracy: 0.8324 - val_loss: 1.1450\n",
            "Epoch 10/30\n",
            "\u001b[1m72/72\u001b[0m \u001b[32m━━━━━━━━━━━━━━━━━━━━\u001b[0m\u001b[37m\u001b[0m \u001b[1m4s\u001b[0m 54ms/step - accuracy: 0.8691 - loss: 0.6602 - val_accuracy: 0.8383 - val_loss: 1.1155\n",
            "Epoch 11/30\n",
            "\u001b[1m72/72\u001b[0m \u001b[32m━━━━━━━━━━━━━━━━━━━━\u001b[0m\u001b[37m\u001b[0m \u001b[1m4s\u001b[0m 52ms/step - accuracy: 0.8825 - loss: 0.5690 - val_accuracy: 0.8409 - val_loss: 1.0942\n",
            "Epoch 12/30\n",
            "\u001b[1m72/72\u001b[0m \u001b[32m━━━━━━━━━━━━━━━━━━━━\u001b[0m\u001b[37m\u001b[0m \u001b[1m4s\u001b[0m 52ms/step - accuracy: 0.8969 - loss: 0.4844 - val_accuracy: 0.8453 - val_loss: 1.0994\n",
            "Epoch 13/30\n",
            "\u001b[1m72/72\u001b[0m \u001b[32m━━━━━━━━━━━━━━━━━━━━\u001b[0m\u001b[37m\u001b[0m \u001b[1m5s\u001b[0m 53ms/step - accuracy: 0.9084 - loss: 0.4159 - val_accuracy: 0.8494 - val_loss: 1.0735\n",
            "Epoch 14/30\n",
            "\u001b[1m72/72\u001b[0m \u001b[32m━━━━━━━━━━━━━━━━━━━━\u001b[0m\u001b[37m\u001b[0m \u001b[1m4s\u001b[0m 51ms/step - accuracy: 0.9207 - loss: 0.3473 - val_accuracy: 0.8480 - val_loss: 1.0631\n",
            "Epoch 15/30\n",
            "\u001b[1m72/72\u001b[0m \u001b[32m━━━━━━━━━━━━━━━━━━━━\u001b[0m\u001b[37m\u001b[0m \u001b[1m4s\u001b[0m 51ms/step - accuracy: 0.9317 - loss: 0.2932 - val_accuracy: 0.8527 - val_loss: 1.0558\n",
            "Epoch 16/30\n",
            "\u001b[1m72/72\u001b[0m \u001b[32m━━━━━━━━━━━━━━━━━━━━\u001b[0m\u001b[37m\u001b[0m \u001b[1m4s\u001b[0m 53ms/step - accuracy: 0.9438 - loss: 0.2387 - val_accuracy: 0.8520 - val_loss: 1.0542\n",
            "Epoch 17/30\n",
            "\u001b[1m72/72\u001b[0m \u001b[32m━━━━━━━━━━━━━━━━━━━━\u001b[0m\u001b[37m\u001b[0m \u001b[1m4s\u001b[0m 53ms/step - accuracy: 0.9473 - loss: 0.2245 - val_accuracy: 0.8536 - val_loss: 1.0499\n",
            "Epoch 18/30\n",
            "\u001b[1m72/72\u001b[0m \u001b[32m━━━━━━━━━━━━━━━━━━━━\u001b[0m\u001b[37m\u001b[0m \u001b[1m4s\u001b[0m 51ms/step - accuracy: 0.9623 - loss: 0.1637 - val_accuracy: 0.8585 - val_loss: 1.0568\n",
            "Epoch 19/30\n",
            "\u001b[1m72/72\u001b[0m \u001b[32m━━━━━━━━━━━━━━━━━━━━\u001b[0m\u001b[37m\u001b[0m \u001b[1m4s\u001b[0m 51ms/step - accuracy: 0.9452 - loss: 0.3379 - val_accuracy: 0.8020 - val_loss: 1.5530\n",
            "Epoch 20/30\n",
            "\u001b[1m72/72\u001b[0m \u001b[32m━━━━━━━━━━━━━━━━━━━━\u001b[0m\u001b[37m\u001b[0m \u001b[1m4s\u001b[0m 51ms/step - accuracy: 0.9208 - loss: 0.3647 - val_accuracy: 0.8593 - val_loss: 1.0548\n",
            "Epoch 21/30\n",
            "\u001b[1m72/72\u001b[0m \u001b[32m━━━━━━━━━━━━━━━━━━━━\u001b[0m\u001b[37m\u001b[0m \u001b[1m4s\u001b[0m 52ms/step - accuracy: 0.9724 - loss: 0.1167 - val_accuracy: 0.8582 - val_loss: 1.0639\n",
            "Epoch 22/30\n",
            "\u001b[1m72/72\u001b[0m \u001b[32m━━━━━━━━━━━━━━━━━━━━\u001b[0m\u001b[37m\u001b[0m \u001b[1m5s\u001b[0m 51ms/step - accuracy: 0.9777 - loss: 0.0935 - val_accuracy: 0.8615 - val_loss: 1.0825\n",
            "Epoch 23/30\n",
            "\u001b[1m72/72\u001b[0m \u001b[32m━━━━━━━━━━━━━━━━━━━━\u001b[0m\u001b[37m\u001b[0m \u001b[1m4s\u001b[0m 51ms/step - accuracy: 0.9815 - loss: 0.0772 - val_accuracy: 0.8597 - val_loss: 1.0932\n",
            "Epoch 24/30\n",
            "\u001b[1m72/72\u001b[0m \u001b[32m━━━━━━━━━━━━━━━━━━━━\u001b[0m\u001b[37m\u001b[0m \u001b[1m4s\u001b[0m 52ms/step - accuracy: 0.9840 - loss: 0.0648 - val_accuracy: 0.8612 - val_loss: 1.0947\n",
            "Epoch 25/30\n",
            "\u001b[1m72/72\u001b[0m \u001b[32m━━━━━━━━━━━━━━━━━━━━\u001b[0m\u001b[37m\u001b[0m \u001b[1m4s\u001b[0m 51ms/step - accuracy: 0.9843 - loss: 0.0611 - val_accuracy: 0.8595 - val_loss: 1.1174\n",
            "Epoch 26/30\n",
            "\u001b[1m72/72\u001b[0m \u001b[32m━━━━━━━━━━━━━━━━━━━━\u001b[0m\u001b[37m\u001b[0m \u001b[1m4s\u001b[0m 52ms/step - accuracy: 0.8980 - loss: 0.6961 - val_accuracy: 0.8617 - val_loss: 1.1165\n",
            "Epoch 27/30\n",
            "\u001b[1m72/72\u001b[0m \u001b[32m━━━━━━━━━━━━━━━━━━━━\u001b[0m\u001b[37m\u001b[0m \u001b[1m4s\u001b[0m 54ms/step - accuracy: 0.9843 - loss: 0.0620 - val_accuracy: 0.8615 - val_loss: 1.1323\n",
            "Epoch 28/30\n",
            "\u001b[1m72/72\u001b[0m \u001b[32m━━━━━━━━━━━━━━━━━━━━\u001b[0m\u001b[37m\u001b[0m \u001b[1m5s\u001b[0m 52ms/step - accuracy: 0.9862 - loss: 0.0512 - val_accuracy: 0.8592 - val_loss: 1.1209\n",
            "Epoch 29/30\n",
            "\u001b[1m72/72\u001b[0m \u001b[32m━━━━━━━━━━━━━━━━━━━━\u001b[0m\u001b[37m\u001b[0m \u001b[1m4s\u001b[0m 52ms/step - accuracy: 0.9865 - loss: 0.0471 - val_accuracy: 0.8612 - val_loss: 1.1455\n",
            "Epoch 30/30\n",
            "\u001b[1m72/72\u001b[0m \u001b[32m━━━━━━━━━━━━━━━━━━━━\u001b[0m\u001b[37m\u001b[0m \u001b[1m4s\u001b[0m 52ms/step - accuracy: 0.9885 - loss: 0.0403 - val_accuracy: 0.8623 - val_loss: 1.1485\n"
          ]
        },
        {
          "output_type": "execute_result",
          "data": {
            "text/plain": [
              "<keras.src.callbacks.history.History at 0x7cf2c951f150>"
            ]
          },
          "metadata": {},
          "execution_count": 209
        }
      ]
    },
    {
      "cell_type": "code",
      "source": [
        "import numpy as np\n",
        "ben_vocab = target_vectorization.get_vocabulary()\n",
        "ben_index_lookup = dict(zip(range(len(ben_vocab)), ben_vocab))\n",
        "max_decoded_sentence_length = 20\n",
        "\n",
        "def decode_sequence(input_sentence):\n",
        "    tokenized_input_sentence = source_vectorization([input_sentence])\n",
        "    decoded_sentence = \"[start]\"\n",
        "\n",
        "    for i in range(max_decoded_sentence_length):\n",
        "        tokenized_target_sentence = target_vectorization([decoded_sentence])[:, :-1]\n",
        "\n",
        "        predictions = model({\n",
        "            \"english\": tokenized_input_sentence,\n",
        "            \"bengla\": tokenized_target_sentence\n",
        "        })\n",
        "\n",
        "        sampled_token_index = np.argmax(predictions[0, i, :])\n",
        "        sampled_token = ben_index_lookup[sampled_token_index]\n",
        "        decoded_sentence += \" \" + sampled_token\n",
        "\n",
        "        if sampled_token == \"[end]\":\n",
        "            break\n",
        "\n",
        "    return ' '.join([token for token in decoded_sentence.split() if token not in ('[start]', '[end]')])\n"
      ],
      "metadata": {
        "id": "-cbCWVc9Pjr7"
      },
      "id": "-cbCWVc9Pjr7",
      "execution_count": null,
      "outputs": []
    },
    {
      "cell_type": "code",
      "source": [
        "test_eng_texts = [pair[0] for pair in test_pairs]\n",
        "for _ in range(20):\n",
        "    input_sentence = random.choice(test_eng_texts)\n",
        "    print(\"-\")\n",
        "    print(input_sentence)\n",
        "    print(decode_sequence(input_sentence))\n"
      ],
      "metadata": {
        "colab": {
          "base_uri": "https://localhost:8080/"
        },
        "id": "R3KqWRinfe1L",
        "outputId": "9b0fceab-494b-45a9-d995-8c55c3d6ac88"
      },
      "id": "R3KqWRinfe1L",
      "execution_count": null,
      "outputs": [
        {
          "output_type": "stream",
          "name": "stdout",
          "text": [
            "-\n",
            "How old is Tom?\n",
            "টমের বয়স কত\n",
            "-\n",
            "I like him.\n",
            "আমার ওকে ভালো লাগে।\n",
            "-\n",
            "It looked fresh.\n",
            "এটাকে দেখে আমেরিকান বলে মনে হচ্ছে।\n",
            "-\n",
            "You look very pale.\n",
            "আপনাকে দেখে খুব ফ্যাকাশে লাগছে।\n",
            "-\n",
            "Who are those guys?\n",
            "ওরা কারা\n",
            "-\n",
            "We were here about three years ago.\n",
            "আমরা এখানে তিন বছর আগে পর্যন্ত আমরা এখানে আছি।\n",
            "-\n",
            "Where can I catch the bus to the Tokyo station?\n",
            "আমি স্ট্যাম্প কোথা থেকে অনেক বছর অস্ট্রেলিয়া থেকে কিনতে পারবে।\n",
            "-\n",
            "How could I be a robot? Robots can't dream.\n",
            "আমি এটাকে কিভাবে যাব\n",
            "-\n",
            "Don't come in.\n",
            "ভেতরে আসবেন না।\n",
            "-\n",
            "I don't want you to leave.\n",
            "আমি আপনাকে কথা বলতে চাই না।\n",
            "-\n",
            "We're going.\n",
            "আমরা যাবো।\n",
            "-\n",
            "I suspect Tom isn't in Australia.\n",
            "আমার সন্দেহ হচ্ছে যে টম অস্ট্রেলিয়ায় নেই।\n",
            "-\n",
            "Something has happened to this clock.\n",
            "এই চিড়িয়াখানাটার বয়স কত\n",
            "-\n",
            "Tom was utterly humiliated.\n",
            "টম পাতিলেবুটাকে চিপরালো।\n",
            "-\n",
            "I don't like to drink coffee.\n",
            "আমি নিউইয়র্কে থাকতে চাই।\n",
            "-\n",
            "I've never smoked a cigarette in my life.\n",
            "আমি আমার ছেলেকে দেখতে চাই।\n",
            "-\n",
            "Your hat is somewhere around here.\n",
            "তোমার এই আশেপাশেই আছে।\n",
            "-\n",
            "I know why you're upset.\n",
            "আমি জানতে চাই কেন আপনি কেন\n",
            "-\n",
            "Japan is located in Asia.\n",
            "জাপান পূর্বএশিয়ায় অবস্থিত।\n",
            "-\n",
            "What street is this?\n",
            "এই চিহ্নটির মানে কী\n"
          ]
        }
      ]
    },
    {
      "cell_type": "code",
      "source": [],
      "metadata": {
        "id": "g6TRTQkdfhiv"
      },
      "id": "g6TRTQkdfhiv",
      "execution_count": null,
      "outputs": []
    }
  ],
  "metadata": {
    "colab": {
      "provenance": [],
      "gpuType": "T4"
    },
    "language_info": {
      "name": "python"
    },
    "kernelspec": {
      "name": "python3",
      "display_name": "Python 3"
    },
    "accelerator": "GPU"
  },
  "nbformat": 4,
  "nbformat_minor": 5
}